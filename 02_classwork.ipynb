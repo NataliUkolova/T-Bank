{
 "cells": [
  {
   "cell_type": "code",
   "execution_count": 1,
   "id": "b7725a5d-b5c9-47fe-8124-76e21a05a0d5",
   "metadata": {},
   "outputs": [
    {
     "name": "stdout",
     "output_type": "stream",
     "text": [
      "178.7237048\n"
     ]
    }
   ],
   "source": [
    "'''Найдите длину окружности с радиусом 28.4456 см. Примем, что пи равно 3.1415.\n",
    "Найдите объём конуса с диаметром основания 10.752 см и высотой 5.102 см.\n",
    "Определите, сколько лет/месяцев/недель/дней/часов/минут в 5394523242 секундах.\n",
    "В московской Вышке 50925 студентов. Из них на ФГН учатся 3265. Сколько процентов студентов учится \n",
    "на других факультетах? Выведите на экран количество процентов с точностью до двух знаков после запятой (для этого надо погуглить).\n",
    "'''\n",
    "r = 28.4456\n",
    "p = 3.1415\n",
    "print(r*2*p)"
   ]
  },
  {
   "cell_type": "code",
   "execution_count": 2,
   "id": "2054a5a4-9c6b-4c18-97e7-ac820ec6c4a7",
   "metadata": {},
   "outputs": [
    {
     "name": "stdout",
     "output_type": "stream",
     "text": [
      "154.41432678474865\n"
     ]
    }
   ],
   "source": [
    "import math\n",
    "print(1/3 * math.pi * (10.752 / 2)**2 * 5.102)\n"
   ]
  },
  {
   "cell_type": "code",
   "execution_count": 3,
   "id": "cb394d30-f448-4548-99c5-7e9ca129e379",
   "metadata": {},
   "outputs": [
    {
     "name": "stdout",
     "output_type": "stream",
     "text": [
      "171 let 2081 mesyac 18207 nedel 62436 hours 1498478 min\n"
     ]
    }
   ],
   "source": [
    "sec = 5394523242\n",
    "print(sec // 60 // 60 // 24 // 365, \"let\", sec // 60 // 60 // 24 // 30, \"mesyac\", sec // 60 // 60 // 24 // 24 * 7, \"nedel\",  sec // 60 // 60 // 24,\n",
    "      \"hours\",  sec // 60 // 60, \"min\") \n"
   ]
  },
  {
   "cell_type": "code",
   "execution_count": 6,
   "id": "9ed7e586-52a5-4ad9-97bd-d432434b0867",
   "metadata": {},
   "outputs": [
    {
     "name": "stdout",
     "output_type": "stream",
     "text": [
      "93.59\n"
     ]
    }
   ],
   "source": [
    "print('%.2f' % ((50925 - 3265) / 50925 * 100))\n"
   ]
  },
  {
   "cell_type": "code",
   "execution_count": 9,
   "id": "86adc2d7-39a3-46ed-892a-27a9f463122e",
   "metadata": {},
   "outputs": [
    {
     "name": "stdout",
     "output_type": "stream",
     "text": [
      "6\n",
      "[1, 2, 3, -4, 5, 6, 200, 7]\n"
     ]
    }
   ],
   "source": [
    "''' Дан список некоторых целых чисел, найдите значение 20 в нем и, если оно присутствует, замените его на 200. Обновите список только при первом вхождении числа 20.\n",
    "\n",
    "Дан список чисел. Выведите значение наибольшего элемента в списке, а затем индекс этого элемента в списке. Если наибольших элементов несколько, выведите индекс первого из них.\n",
    "\n",
    "Заполнить список ста нулями, кроме первого и последнего элементов, которые должны быть равны единице.\n",
    "\n",
    "Сформировать возрастающий список из чётных чисел (количество элементов 45)\n",
    "'''\n",
    "\n",
    "lst = [1, 2, 3, -4, 5, 6, 20, 7]\n",
    "print (lst.index(20))\n",
    "lst[lst.index(20)] = 200 \n",
    "print(lst)"
   ]
  },
  {
   "cell_type": "code",
   "execution_count": null,
   "id": "9390afca-0d86-4923-acce-ad91dfc6ce58",
   "metadata": {},
   "outputs": [],
   "source": []
  }
 ],
 "metadata": {
  "kernelspec": {
   "display_name": "Python 3 (ipykernel)",
   "language": "python",
   "name": "python3"
  },
  "language_info": {
   "codemirror_mode": {
    "name": "ipython",
    "version": 3
   },
   "file_extension": ".py",
   "mimetype": "text/x-python",
   "name": "python",
   "nbconvert_exporter": "python",
   "pygments_lexer": "ipython3",
   "version": "3.12.6"
  }
 },
 "nbformat": 4,
 "nbformat_minor": 5
}
