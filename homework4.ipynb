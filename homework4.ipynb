{
 "cells": [
  {
   "cell_type": "code",
   "execution_count": 2,
   "id": "29f97947-9b68-4af5-a4cf-47311a3744e2",
   "metadata": {},
   "outputs": [],
   "source": [
    "'''\n",
    "Задача 1 (5 баллов)\n",
    "Разработайте класс Rectangle.\n",
    "\n",
    "При инициализации класс принимает два кортежа рациональных координат противоположных углов прямоугольника (со сторонами параллельными осям координат).\n",
    "\n",
    "Класс должен реализовывать методы:\n",
    "\n",
    "perimeter — возвращает периметр прямоугольника; area — возвращает площадь прямоугольника.\n",
    "\n",
    "Все результаты вычислений нужно округлить до сотых.\n",
    "\n",
    "rect = Rectangle((3.2, -4.3), (7.52, 3.14))\n",
    "print(rect.perimeter())\n",
    "\n",
    ">>> 23.52\n",
    "\n",
    "rect = Rectangle((7.52, -4.3), (3.2, 3.14))\n",
    "print(rect.area())\n",
    "\n",
    ">>> 32.14\n",
    "'''\n",
    "class Rectangle:\n",
    "    def __init__(self, bottom_left, top_right):\n",
    "        self.bottom_left = bottom_left\n",
    "        self.top_right = top_right\n",
    "\n",
    "    def perimeter(self):\n",
    "        width = abs(self.top_right[0] - self.bottom_left[0])\n",
    "        height = abs(self.top_right[1] - self.bottom_left[1])\n",
    "        return round(2 * (width + height), 2)\n",
    "\n",
    "    def area(self):\n",
    "        width = abs(self.top_right[0] - self.bottom_left[0])\n",
    "        height = abs(self.top_right[1] - self.bottom_left[1])\n",
    "        return round(width * height, 2)"
   ]
  },
  {
   "cell_type": "code",
   "execution_count": 4,
   "id": "eada844d-4389-4e2c-b3a8-db873304b2b2",
   "metadata": {},
   "outputs": [
    {
     "name": "stdout",
     "output_type": "stream",
     "text": [
      "23.52\n"
     ]
    }
   ],
   "source": [
    "rect1 = Rectangle((3.2, -4.3), (7.52, 3.14))\n",
    "print(rect1.perimeter())"
   ]
  },
  {
   "cell_type": "code",
   "execution_count": 5,
   "id": "3081e137-024b-4914-8ee3-030af003f9a4",
   "metadata": {},
   "outputs": [],
   "source": [
    "'''\n",
    "Задача 2 (5 баллов)\n",
    "Расширим функционал класса написанного вами в предыдущей задаче.\n",
    "\n",
    "Реализуйте методы:\n",
    "\n",
    "get_pos() — возвращает координаты верхнего левого угла в виде кортежа; get_size() — возвращает размеры в виде кортежа; move(dx, dy) — изменяет положение на заданные значения; resize(width, height) — изменяет размер (положение верхнего левого угла остаётся неизменным).\n",
    "\n",
    "rect = Rectangle((3.2, -4.3), (7.52, 3.14))\n",
    "print(rect.get_pos(), rect.get_size())\n",
    "\n",
    ">>>(3.2, 3.14) (4.32, 7.44)\n",
    "\n",
    "rect.move(1.32, -5)\n",
    "print(rect.get_pos(), rect.get_size())\n",
    "\n",
    ">>>(4.52, -1.86) (4.32, 7.44)\n",
    "\n",
    "rect = Rectangle((7.52, -4.3), (3.2, 3.14))\n",
    "print(rect.get_pos(), rect.get_size())\n",
    "\n",
    ">>>(3.2, 3.14) (4.32, 7.44)\n",
    "\n",
    "rect.resize(23.5, 11.3)\n",
    "print(rect.get_pos(), rect.get_size())\n",
    "\n",
    ">>>(3.2, 3.14) (23.5, 11.3)\n",
    "'''\n",
    "class Rectangle:\n",
    "    def __init__(self, top_left, bottom_right):\n",
    "        self.top_left = top_left\n",
    "        self.bottom_right = bottom_right\n",
    "\n",
    "    def get_pos(self):\n",
    "        return self.top_left\n",
    "\n",
    "    def get_size(self):\n",
    "        width = self.bottom_right[0] - self.top_left[0]\n",
    "        height = self.bottom_right[1] - self.top_left[1]\n",
    "        return (width, height)\n",
    "\n",
    "    def move(self, dx, dy):\n",
    "        new_x = self.top_left[0] + dx\n",
    "        new_y = self.top_left[1] + dy\n",
    "        self.top_left = (new_x, new_y)\n",
    "        self.bottom_right = (new_x + self.get_size()[0], new_y + self.get_size()[1])\n",
    "\n",
    "    def resize(self, width, height):\n",
    "        self.bottom_right = (self.top_left[0] + width, self.top_left[1] + height)\n",
    "\n",
    "\n"
   ]
  },
  {
   "cell_type": "code",
   "execution_count": 6,
   "id": "d1f0b771-a8ed-4eef-8418-f016c42cfece",
   "metadata": {},
   "outputs": [
    {
     "name": "stdout",
     "output_type": "stream",
     "text": [
      "(3.2, -4.3) (4.319999999999999, 7.4399999999999995)\n",
      "(4.5200000000000005, -9.3) (2.999999999999999, 12.440000000000001)\n",
      "(7.52, -4.3) (-4.319999999999999, 7.4399999999999995)\n",
      "(7.52, -4.3) (23.5, 11.3)\n"
     ]
    }
   ],
   "source": [
    "rect = Rectangle((3.2, -4.3), (7.52, 3.14))\n",
    "print(rect.get_pos(), rect.get_size())\n",
    "\n",
    "rect.move(1.32, -5)\n",
    "print(rect.get_pos(), rect.get_size())\n",
    "\n",
    "rect = Rectangle((7.52, -4.3), (3.2, 3.14))\n",
    "print(rect.get_pos(), rect.get_size())\n",
    "\n",
    "rect.resize(23.5, 11.3)\n",
    "print(rect.get_pos(), rect.get_size())"
   ]
  },
  {
   "cell_type": "code",
   "execution_count": null,
   "id": "d993dbf4-696a-4a52-80ea-03f5410cea0b",
   "metadata": {},
   "outputs": [],
   "source": []
  }
 ],
 "metadata": {
  "kernelspec": {
   "display_name": "Python 3 (ipykernel)",
   "language": "python",
   "name": "python3"
  },
  "language_info": {
   "codemirror_mode": {
    "name": "ipython",
    "version": 3
   },
   "file_extension": ".py",
   "mimetype": "text/x-python",
   "name": "python",
   "nbconvert_exporter": "python",
   "pygments_lexer": "ipython3",
   "version": "3.12.6"
  }
 },
 "nbformat": 4,
 "nbformat_minor": 5
}
