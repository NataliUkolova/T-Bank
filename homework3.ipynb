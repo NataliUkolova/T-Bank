{
 "cells": [
  {
   "cell_type": "code",
   "execution_count": 7,
   "id": "0bc747ad-0e0c-467f-8640-b76e8f2501a3",
   "metadata": {},
   "outputs": [],
   "source": [
    "'''\n",
    "Задание 1 (3.3 балла)\n",
    "Напишите функцию numbers_action, которая принимает неограниченное число позиционных аргументов чисел, а также аргумент operator, который может\n",
    "принимать значения 'sum' и 'mul', по умолчанию равен 'sum'. В зависимости от аргумента, функция либо складывает, либо перемножает все переданные\n",
    "числа. Гарантируется, что все аргументы всегда передаются правильно.\n",
    "\n",
    "numbers_action(2,3)  \n",
    ">>>> 5  \n",
    " \n",
    "numbers_action(2,3,4,5 operator= 'sum')  \n",
    ">>>> 14  \n",
    " \n",
    "numbers_action(1,2,3, operator= 'mul')  \n",
    ">>>> 6 \n",
    "'''\n",
    "def numbers_action(*args, operator='sum'):\n",
    "    if operator == 'mul':\n",
    "        product = 1\n",
    "        for i in args:\n",
    "            product *= i\n",
    "        print(product)\n",
    "    elif operator == 'sum':\n",
    "        sum = 0\n",
    "        for i in args:\n",
    "            sum += i\n",
    "        print(sum)\n",
    "    else:\n",
    "        print('Некорректный оператор')"
   ]
  },
  {
   "cell_type": "code",
   "execution_count": 11,
   "id": "477eda5e-4dcf-4e84-937d-f93b0c257820",
   "metadata": {},
   "outputs": [
    {
     "name": "stdout",
     "output_type": "stream",
     "text": [
      "5\n",
      "14\n",
      "6\n"
     ]
    }
   ],
   "source": [
    "numbers_action(2,3)  \n",
    "\n",
    " \n",
    "numbers_action(2,3,4,5, operator= 'sum')  \n",
    "\n",
    "numbers_action(1,2,3, operator= 'mul')  \n"
   ]
  },
  {
   "cell_type": "code",
   "execution_count": 12,
   "id": "fe21f918-6845-4001-8e08-77740c9c0ca5",
   "metadata": {},
   "outputs": [
    {
     "name": "stdout",
     "output_type": "stream",
     "text": [
      "Некорректный оператор\n"
     ]
    }
   ],
   "source": [
    "numbers_action(0,5, operator = 'dif')\n"
   ]
  },
  {
   "cell_type": "code",
   "execution_count": null,
   "id": "217baf89-5b4f-451e-96e2-45b088845311",
   "metadata": {},
   "outputs": [],
   "source": []
  },
  {
   "cell_type": "code",
   "execution_count": null,
   "id": "d687d2d1-0108-4970-bca7-2819edcb295a",
   "metadata": {},
   "outputs": [],
   "source": []
  }
 ],
 "metadata": {
  "kernelspec": {
   "display_name": "Python 3 (ipykernel)",
   "language": "python",
   "name": "python3"
  },
  "language_info": {
   "codemirror_mode": {
    "name": "ipython",
    "version": 3
   },
   "file_extension": ".py",
   "mimetype": "text/x-python",
   "name": "python",
   "nbconvert_exporter": "python",
   "pygments_lexer": "ipython3",
   "version": "3.12.6"
  }
 },
 "nbformat": 4,
 "nbformat_minor": 5
}
